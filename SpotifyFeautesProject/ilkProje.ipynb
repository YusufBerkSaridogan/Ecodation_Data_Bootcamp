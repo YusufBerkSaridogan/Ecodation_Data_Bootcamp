{
 "cells": [
  {
   "cell_type": "code",
   "execution_count": null,
   "metadata": {},
   "outputs": [],
   "source": [
    "import pandas as pd\n",
    "import numpy as np\n",
    "import seaborn as sns\n",
    "import matplotlib.pyplot as plt"
   ]
  },
  {
   "cell_type": "code",
   "execution_count": null,
   "metadata": {},
   "outputs": [],
   "source": [
    "df = pd.read_csv('SpotifyFeatures.csv')\n",
    "df.head(10)"
   ]
  },
  {
   "cell_type": "code",
   "execution_count": null,
   "metadata": {},
   "outputs": [],
   "source": [
    "df.info()"
   ]
  },
  {
   "cell_type": "code",
   "execution_count": null,
   "metadata": {},
   "outputs": [],
   "source": [
    "df.describe()"
   ]
  },
  {
   "cell_type": "code",
   "execution_count": null,
   "metadata": {},
   "outputs": [],
   "source": [
    "# 1- En popüler 5 sanatçı\n",
    "top_artists = df['artist_name'].value_counts().head(5)\n",
    "print(\"En popüler 5 sanatçı:\")\n",
    "print(top_artists)"
   ]
  },
  {
   "cell_type": "code",
   "execution_count": null,
   "metadata": {},
   "outputs": [],
   "source": [
    "# Görselleştirme - En popüler 5 sanatçı\n",
    "plt.bar(top_artists.index, top_artists.values)\n",
    "plt.xlabel('Sanatçı')\n",
    "plt.ylabel('Parça Sayısı')\n",
    "plt.title('En Popüler 5 Sanatçı')\n",
    "plt.xticks(rotation=45)\n",
    "plt.show()"
   ]
  },
  {
   "cell_type": "code",
   "execution_count": null,
   "metadata": {},
   "outputs": [],
   "source": [
    "# Görselleştirme - En popüler 5 sanatçı\n",
    "colors = sns.color_palette('Paired', len(top_artists))\n",
    "plt.bar(top_artists.index, top_artists.values, color=colors)\n",
    "plt.xlabel('Sanatçı')\n",
    "plt.ylabel('Parça Sayısı')\n",
    "plt.title('En Popüler 5 Sanatçı')\n",
    "plt.xticks(rotation=45)\n",
    "plt.show()"
   ]
  },
  {
   "cell_type": "code",
   "execution_count": null,
   "metadata": {},
   "outputs": [],
   "source": [
    "# 2- En gürültülü 5 parça\n",
    "noisy_songs = df.nlargest(5, 'loudness')\n",
    "print(noisy_songs)"
   ]
  },
  {
   "cell_type": "code",
   "execution_count": null,
   "metadata": {},
   "outputs": [],
   "source": [
    "# Görselleştirme - En gürültülü 5 parça\n",
    "x = noisy_songs['track_name']\n",
    "y = noisy_songs['loudness']\n",
    "\n",
    "fig, ax = plt.subplots()\n",
    "ax.plot(x, y, color='red', linestyle='-', marker='o', label='Loudness')\n",
    "\n",
    "ax.set_xlabel('Parça')\n",
    "ax.set_ylabel('Gürültü Seviyesi')\n",
    "ax.set_title('En Gürültülü 5 Parça')\n",
    "ax.legend()\n",
    "ax.grid(True)\n",
    "\n",
    "plt.xticks(rotation=45)\n",
    "plt.show()"
   ]
  },
  {
   "cell_type": "code",
   "execution_count": null,
   "metadata": {},
   "outputs": [],
   "source": [
    "# 3- En çok dans edilebilen şarkıya sahip sanatçı\n",
    "artist_danceability = df.groupby('artist_name')['danceability'].mean().nlargest(5)"
   ]
  },
  {
   "cell_type": "code",
   "execution_count": null,
   "metadata": {},
   "outputs": [],
   "source": [
    "# Görselleştirme - En çok dans edilebilen şarkıya sahip sanatçı\n",
    "colors = sns.color_palette('husl', len(artist_danceability))\n",
    "plt.bar(artist_danceability.index, artist_danceability.values, color=colors)\n",
    "plt.xlabel('Sanatçı')\n",
    "plt.ylabel('Dans Edilebilirlik')\n",
    "plt.title('En Çok Dans Edilebilen Şarkıya Sahip Sanatçı')\n",
    "plt.xticks(rotation=45)\n",
    "plt.show()"
   ]
  },
  {
   "cell_type": "code",
   "execution_count": null,
   "metadata": {},
   "outputs": [],
   "source": [
    "# 4- En iyi 10 enstrümental parça\n",
    "instrumental_songs = df.nlargest(10, 'instrumentalness')"
   ]
  },
  {
   "cell_type": "code",
   "execution_count": null,
   "metadata": {},
   "outputs": [],
   "source": [
    "# Görselleştirme - En iyi 10 enstrümental parça\n",
    "labels = instrumental_songs['track_name']\n",
    "sizes = instrumental_songs['instrumentalness']\n",
    "colors = ['red', 'blue', 'green', 'yellow', 'purple', 'orange', 'pink', 'cyan', 'magenta', 'brown']\n",
    "\n",
    "plt.pie(sizes, labels=labels, colors=colors, autopct='%1.1f%%')\n",
    "plt.title('En İyi 10 Enstrümental Parça')\n",
    "plt.axis('equal')\n",
    "plt.show()"
   ]
  },
  {
   "cell_type": "code",
   "execution_count": null,
   "metadata": {},
   "outputs": [],
   "source": [
    "# 5- 70'ten fazla popülariteye sahip parçaların akustikliği ve görselleştirme\n",
    "popular_songs = df[df['popularity'] > 70]\n",
    "acousticness = popular_songs['acousticness']"
   ]
  },
  {
   "cell_type": "code",
   "execution_count": null,
   "metadata": {},
   "outputs": [],
   "source": [
    "# Görselleştirme - 70'ten fazla popülariteye sahip parçaların akustikliği\n",
    "plt.hist(acousticness, bins=20)\n",
    "plt.xlabel('Akustiklik')\n",
    "plt.ylabel('Parça Sayısı')\n",
    "plt.title('70\\'ten Fazla Popülariteye Sahip Parçaların Akustikliği')\n",
    "plt.show()"
   ]
  },
  {
   "cell_type": "code",
   "execution_count": null,
   "metadata": {},
   "outputs": [],
   "source": [
    "# Görselleştirme - 70'ten fazla popülariteye sahip parçaların akustikliği\n",
    "acousticness_sorted = acousticness.sort_values().reset_index(drop=True)\n",
    "plt.plot(acousticness_sorted, color='blue')\n",
    "plt.xlabel('Parça')\n",
    "plt.ylabel('Akustiklik')\n",
    "plt.title('70\\'ten Fazla Popülariteye Sahip Parçaların Akustikliği')\n",
    "plt.xticks(rotation=45)\n",
    "plt.show()"
   ]
  },
  {
   "cell_type": "code",
   "execution_count": null,
   "metadata": {},
   "outputs": [],
   "source": []
  }
 ],
 "metadata": {
  "kernelspec": {
   "display_name": "Python 3",
   "language": "python",
   "name": "python3"
  },
  "language_info": {
   "codemirror_mode": {
    "name": "ipython",
    "version": 3
   },
   "file_extension": ".py",
   "mimetype": "text/x-python",
   "name": "python",
   "nbconvert_exporter": "python",
   "pygments_lexer": "ipython3",
   "version": "3.10.11"
  },
  "orig_nbformat": 4
 },
 "nbformat": 4,
 "nbformat_minor": 2
}
